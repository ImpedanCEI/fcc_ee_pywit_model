{
 "cells": [
  {
   "cell_type": "markdown",
   "id": "a2c5dca7",
   "metadata": {},
   "source": [
    "# Normalize CST files"
   ]
  },
  {
   "cell_type": "code",
   "execution_count": 2,
   "id": "0917816e",
   "metadata": {},
   "outputs": [],
   "source": [
    "import numpy as np\n",
    "import os \n",
    "import json  \n",
    "from pathlib import Path"
   ]
  },
  {
   "cell_type": "code",
   "execution_count": 9,
   "id": "9bc4378e",
   "metadata": {},
   "outputs": [],
   "source": [
    "# Base project folder\n",
    "base_folder = Path.home() / \"fcc_ee_pywit_model\" / \"CEI_section_meeting\"\n",
    "\n",
    "# Input and output folders relative to base_folder\n",
    "import_folder = base_folder / \"1_CST_results/Collimator_SquarePipe/taper_angle_15deg/Dipolar\"\n",
    "output_folder = base_folder / \"3_Impedance_Model/Using_CST_results/3.1_Collimators_and pipe/Dipolar_H15deg_V2.5deg/collimator_normalized/H15_V15\"\n"
   ]
  },
  {
   "cell_type": "code",
   "execution_count": 10,
   "id": "c227b405",
   "metadata": {},
   "outputs": [],
   "source": [
    "for filename in os.listdir(import_folder):\n",
    "    dict_out = {}\n",
    "    table = np.loadtxt(f'{import_folder}/{filename}', skiprows=3)\n",
    "    if filename.startswith(\"Impedance\"):\n",
    "        table[:, 0] *= 1e9\n",
    "        table[:, 1:3] *= -1e3\n",
    "        if \"dipX\" in filename:\n",
    "            component = \"zxdip\"\n",
    "        elif \"dipY\" in filename:\n",
    "            component = \"zydip\"\n",
    "        else: \n",
    "            raise ValueError(\"Nor dipX either dipY found in filename\")\n",
    "        \n",
    "        dict_out[component] = {}\n",
    "        dict_out[component][\"frequency\"] = table[:, 0].tolist()\n",
    "        dict_out[component][\"real impedance\"] = table[:, 1].tolist()\n",
    "        dict_out[component][\"imaginary impedance\"] = table[:, 2].tolist()\n",
    "\n",
    "    elif filename.startswith(\"Wake\"):\n",
    "        table[:, 0] /= 1e3\n",
    "        table[:, 1] *= 1e3\n",
    "        if \"dipX\" in filename:\n",
    "            component = \"wxdip\"\n",
    "        elif \"dipY\" in filename:\n",
    "            component = \"wydip\"\n",
    "        else: \n",
    "            raise ValueError(\"Nor dipX either dipY found in filename\")\n",
    "        \n",
    "        dict_out[component] = {}\n",
    "        dict_out[component][\"distance\"] = table[:, 0].tolist()\n",
    "        dict_out[component][\"wake\"] = table[:, 1].tolist()\n",
    "    else:\n",
    "        raise ValueError(\"Nor impedance either wake found in filename\")\n",
    "   \n",
    "    # save the dictionary in a json file\n",
    "    \n",
    "    with open(f'{output_folder}/{filename}'.replace(\"txt\", \"json\"), \"w\") as f:\n",
    "        json.dump(dict_out, f, indent=2)\n"
   ]
  },
  {
   "cell_type": "markdown",
   "id": "d498ed07",
   "metadata": {},
   "source": []
  }
 ],
 "metadata": {
  "kernelspec": {
   "display_name": "pywit_env",
   "language": "python",
   "name": "python3"
  },
  "language_info": {
   "codemirror_mode": {
    "name": "ipython",
    "version": 3
   },
   "file_extension": ".py",
   "mimetype": "text/x-python",
   "name": "python",
   "nbconvert_exporter": "python",
   "pygments_lexer": "ipython3",
   "version": "3.11.10"
  }
 },
 "nbformat": 4,
 "nbformat_minor": 5
}
