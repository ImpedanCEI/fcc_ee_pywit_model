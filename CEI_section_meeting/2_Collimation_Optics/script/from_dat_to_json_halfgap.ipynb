{
 "cells": [
  {
   "cell_type": "markdown",
   "id": "6787c316",
   "metadata": {},
   "source": [
    "# Convert collimator tables in json files"
   ]
  },
  {
   "cell_type": "markdown",
   "id": "fb075d22",
   "metadata": {},
   "source": [
    "## Imports"
   ]
  },
  {
   "cell_type": "code",
   "execution_count": null,
   "id": "0da133ac",
   "metadata": {},
   "outputs": [],
   "source": [
    "import json\n",
    "import re\n",
    "import os\n",
    "from pathlib import Path"
   ]
  },
  {
   "cell_type": "markdown",
   "id": "29ef6a61",
   "metadata": {},
   "source": [
    "### Open and read input file"
   ]
  },
  {
   "cell_type": "code",
   "execution_count": null,
   "id": "692c277d",
   "metadata": {},
   "outputs": [],
   "source": [
    "# === Input and output file paths ===\n",
    "#example_folder = os.getcwd()\n",
    "parent_folder = Path.cwd().parent\n",
    "input_path = os.path.join(parent_folder,'dat_files/FCCee_z_GHC_V24.4_tcp_tcs.dat')\n",
    "output_file_path = input_path.replace(\"dat_files\", \"json_files\").replace(\".dat\", \".json\")\n",
    "\n",
    "# === Open and read the input file ===\n",
    "with open(input_path, \"r\") as file:\n",
    "    lines = file.readlines()\n"
   ]
  },
  {
   "cell_type": "markdown",
   "id": "20e3b8af",
   "metadata": {},
   "source": [
    "### Prapare the JSON structure"
   ]
  },
  {
   "cell_type": "code",
   "execution_count": null,
   "id": "39fb6215",
   "metadata": {},
   "outputs": [],
   "source": [
    "collimator_data = {}\n",
    "\n",
    "for line in lines[1:]:  # Skip header\n",
    "    parts = line.strip().split()\n",
    "    if len(parts) < 8:\n",
    "        continue\n",
    "\n",
    "    try:\n",
    "        name = parts[1]\n",
    "        plane = parts[3]\n",
    "        s = float(parts[4])\n",
    "        material_raw = parts[5].lower()\n",
    "        length = float(parts[6])\n",
    "        n_sigma = float(parts[7])\n",
    "    except (ValueError, IndexError) as e:\n",
    "        print(f\"Skipping line due to error: {e}\")\n",
    "        continue\n",
    "\n",
    "    # Extract half-gaps (positions 8 and 9 in the file)\n",
    "    try:\n",
    "        halfgap_x = float(parts[8])\n",
    "        halfgap_y = float(parts[9])\n",
    "    except (ValueError, IndexError):\n",
    "        halfgap_x = None\n",
    "        halfgap_y = None\n",
    "\n",
    "    # Normalize material names\n",
    "    material_map = {\n",
    "        'mogr': 'moc',\n",
    "        'mo': 'Mo',\n",
    "        'w': 'W',\n",
    "        'inermet180': 'inermet180'\n",
    "    }\n",
    "    material = material_map.get(material_raw, material_raw)\n",
    "\n",
    "    is_horizontal = plane.upper() == 'H'\n",
    "    angle = 0.0 if is_horizontal else 1.57079633\n",
    "    halfgap = halfgap_x if is_horizontal else halfgap_y\n",
    "\n",
    "    collimator_data[name] = {\n",
    "        \"s\": s,\n",
    "        \"angle\": angle,\n",
    "        \"layers\": [{\"material\": material, \"thickness\": 10}],\n",
    "        \"length\": length,\n",
    "        \"tilt_1\": 0.0,\n",
    "        \"tilt_2\": 0.0,\n",
    "        \"halfgap_dependent_hom_files\": [],\n",
    "        \"halfgap\": halfgap*1e-3  \n",
    "    }"
   ]
  },
  {
   "cell_type": "markdown",
   "id": "5e6d9dbe",
   "metadata": {},
   "source": [
    "### Save JSON to a file"
   ]
  },
  {
   "cell_type": "code",
   "execution_count": 7,
   "id": "1277f945",
   "metadata": {},
   "outputs": [
    {
     "name": "stdout",
     "output_type": "stream",
     "text": [
      "✅ JSON saved to /home/dogibell/fcc_ee_pywit_model/CEI_section_meeting/coll_optics/json_files/FCCee_z_GHC_V23_tcp_tcs.json with 9 entries\n"
     ]
    }
   ],
   "source": [
    "# === Save JSON to a file ===\n",
    "outout_path = os.path.join(parent_folder,'json_files/FCCee_z_GHC_V23_tcp_tcs.json')\n",
    "with open(outout_path, \"w\") as json_file:\n",
    "    json.dump(collimator_data, json_file, indent=2)\n",
    "\n",
    "print(f\"✅ JSON saved to {outout_path} with {len(collimator_data)} entries\")"
   ]
  },
  {
   "cell_type": "code",
   "execution_count": null,
   "id": "8077d345",
   "metadata": {},
   "outputs": [],
   "source": []
  }
 ],
 "metadata": {
  "kernelspec": {
   "display_name": "pywit_env",
   "language": "python",
   "name": "python3"
  },
  "language_info": {
   "codemirror_mode": {
    "name": "ipython",
    "version": 3
   },
   "file_extension": ".py",
   "mimetype": "text/x-python",
   "name": "python",
   "nbconvert_exporter": "python",
   "pygments_lexer": "ipython3",
   "version": "3.11.10"
  }
 },
 "nbformat": 4,
 "nbformat_minor": 5
}
