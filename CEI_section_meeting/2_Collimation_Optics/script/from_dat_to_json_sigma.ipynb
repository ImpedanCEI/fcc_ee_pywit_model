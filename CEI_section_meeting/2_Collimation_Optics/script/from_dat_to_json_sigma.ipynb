{
 "cells": [
  {
   "cell_type": "markdown",
   "id": "fb075d22",
   "metadata": {},
   "source": [
    "## Inputs"
   ]
  },
  {
   "cell_type": "code",
   "execution_count": 4,
   "id": "0da133ac",
   "metadata": {},
   "outputs": [],
   "source": [
    "import json\n",
    "import re\n",
    "import os\n",
    "from pathlib import Path"
   ]
  },
  {
   "cell_type": "markdown",
   "id": "bc8b571d",
   "metadata": {},
   "source": [
    "import json\n",
    "import re"
   ]
  },
  {
   "cell_type": "code",
   "execution_count": 8,
   "id": "692c277d",
   "metadata": {},
   "outputs": [],
   "source": [
    "#example_folder = os.getcwd()\n",
    "dat_folder = Path.cwd().parent\n",
    "collimator_table = os.path.join(dat_folder,'dat_files/FCCee_z_GHC_V23_tcp_tcs.dat')\n",
    "\n",
    "# === Open and read the input file ===\n",
    "with open(collimator_table, \"r\") as file:\n",
    "    lines = file.readlines()"
   ]
  },
  {
   "cell_type": "code",
   "execution_count": 9,
   "id": "39fb6215",
   "metadata": {},
   "outputs": [],
   "source": [
    "# === Prepare the JSON structure ===\n",
    "collimator_data = {}\n",
    "\n",
    "for line in lines[1:]:  # Skip header\n",
    "    parts = re.split(r'\\s{2,}', line.strip())\n",
    "    if len(parts) < 13:\n",
    "        continue  # Not enough fields\n",
    "\n",
    "    try:\n",
    "        name = parts[0]\n",
    "        plane = parts[2]\n",
    "        s = float(parts[4])\n",
    "        length = float(parts[5])\n",
    "        n_sigma = float(parts[6])\n",
    "        material_raw = parts[10].lower()\n",
    "    except (ValueError, IndexError):\n",
    "        continue  # Skip malformed rows\n",
    "\n",
    "    # Normalize material names\n",
    "    material_map = {\n",
    "        'mogr': 'moc',\n",
    "        'mo': 'Mo',\n",
    "    }\n",
    "    material = material_map.get(material_raw, material_raw)\n",
    "\n",
    "    angle = 0.0 if plane.upper() == 'H' else 1.57079633\n",
    "\n",
    "    collimator_data[name] = {\n",
    "        \"s\": s,\n",
    "        \"angle\": angle,\n",
    "        \"layers\": [{\"material\": material, \"thickness\": 10}],\n",
    "        \"n_sigma\": n_sigma,\n",
    "        \"length\": length,\n",
    "        \"tilt_1\": 0.0,\n",
    "        \"tilt_2\": 0.0,\n",
    "        \"halfgap_dependent_hom_files\": []\n",
    "    }"
   ]
  },
  {
   "cell_type": "code",
   "execution_count": 10,
   "id": "1277f945",
   "metadata": {},
   "outputs": [
    {
     "name": "stdout",
     "output_type": "stream",
     "text": [
      "✅ JSON saved to /home/dogibell/fcc_ee_pywit_model/CEI_section_meeting/coll_optics/json_files/FCCee_z_GHC_V23_tcp_tcs.json with 9 entries\n"
     ]
    }
   ],
   "source": [
    "# === Save JSON to a file ===\n",
    "json_folder = os.path.join(dat_folder,'json_files/FCCee_z_GHC_V23_tcp_tcs.json')\n",
    "with open(json_folder, \"w\") as json_file:\n",
    "    json.dump(collimator_data, json_file, indent=2)\n",
    "\n",
    "print(f\"✅ JSON saved to {json_folder} with {len(collimator_data)} entries\")"
   ]
  },
  {
   "cell_type": "code",
   "execution_count": null,
   "id": "8077d345",
   "metadata": {},
   "outputs": [],
   "source": []
  }
 ],
 "metadata": {
  "kernelspec": {
   "display_name": "pywit_env",
   "language": "python",
   "name": "python3"
  },
  "language_info": {
   "codemirror_mode": {
    "name": "ipython",
    "version": 3
   },
   "file_extension": ".py",
   "mimetype": "text/x-python",
   "name": "python",
   "nbconvert_exporter": "python",
   "pygments_lexer": "ipython3",
   "version": "3.11.10"
  }
 },
 "nbformat": 4,
 "nbformat_minor": 5
}
